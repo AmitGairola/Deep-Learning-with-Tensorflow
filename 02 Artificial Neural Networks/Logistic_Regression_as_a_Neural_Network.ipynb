{
  "cells": [
    {
      "cell_type": "markdown",
      "metadata": {
        "id": "view-in-github",
        "colab_type": "text"
      },
      "source": [
        "<a href=\"https://colab.research.google.com/github/AmitGairola/Deep-Learning-with-Tensorflow/blob/main/02%20Artificial%20Neural%20Networks/Logistic_Regression_as_a_Neural_Network.ipynb\" target=\"_parent\"><img src=\"https://colab.research.google.com/assets/colab-badge.svg\" alt=\"Open In Colab\"/></a>"
      ]
    },
    {
      "cell_type": "markdown",
      "source": [
        "This lab is the first in a series of labs as part of the course on Deep Learning with Tensorflow."
      ],
      "metadata": {
        "id": "s42zs79-j8r0"
      }
    },
    {
      "cell_type": "code",
      "execution_count": null,
      "metadata": {
        "id": "nCXFb8GvjRoz"
      },
      "outputs": [],
      "source": [
        "import numpy as np\n",
        "import pandas as pd"
      ]
    },
    {
      "cell_type": "code",
      "execution_count": null,
      "metadata": {
        "id": "Uh-CKoR0jRpA"
      },
      "outputs": [],
      "source": [
        "df = pd.read_csv('cancer-data.csv')"
      ]
    },
    {
      "cell_type": "code",
      "execution_count": null,
      "metadata": {
        "id": "ia28AnQjjRpC",
        "outputId": "d2fd4aa8-c655-43c8-cceb-5ce516705a85"
      },
      "outputs": [
        {
          "data": {
            "text/html": [
              "<div>\n",
              "<style scoped>\n",
              "    .dataframe tbody tr th:only-of-type {\n",
              "        vertical-align: middle;\n",
              "    }\n",
              "\n",
              "    .dataframe tbody tr th {\n",
              "        vertical-align: top;\n",
              "    }\n",
              "\n",
              "    .dataframe thead th {\n",
              "        text-align: right;\n",
              "    }\n",
              "</style>\n",
              "<table border=\"1\" class=\"dataframe\">\n",
              "  <thead>\n",
              "    <tr style=\"text-align: right;\">\n",
              "      <th></th>\n",
              "      <th>id</th>\n",
              "      <th>diagnosis</th>\n",
              "      <th>radius_mean</th>\n",
              "      <th>texture_mean</th>\n",
              "      <th>perimeter_mean</th>\n",
              "      <th>area_mean</th>\n",
              "      <th>smoothness_mean</th>\n",
              "      <th>compactness_mean</th>\n",
              "      <th>concavity_mean</th>\n",
              "      <th>concave points_mean</th>\n",
              "      <th>...</th>\n",
              "      <th>texture_worst</th>\n",
              "      <th>perimeter_worst</th>\n",
              "      <th>area_worst</th>\n",
              "      <th>smoothness_worst</th>\n",
              "      <th>compactness_worst</th>\n",
              "      <th>concavity_worst</th>\n",
              "      <th>concave points_worst</th>\n",
              "      <th>symmetry_worst</th>\n",
              "      <th>fractal_dimension_worst</th>\n",
              "      <th>Unnamed: 32</th>\n",
              "    </tr>\n",
              "  </thead>\n",
              "  <tbody>\n",
              "    <tr>\n",
              "      <th>0</th>\n",
              "      <td>842302</td>\n",
              "      <td>M</td>\n",
              "      <td>17.99</td>\n",
              "      <td>10.38</td>\n",
              "      <td>122.80</td>\n",
              "      <td>1001.0</td>\n",
              "      <td>0.11840</td>\n",
              "      <td>0.27760</td>\n",
              "      <td>0.3001</td>\n",
              "      <td>0.14710</td>\n",
              "      <td>...</td>\n",
              "      <td>17.33</td>\n",
              "      <td>184.60</td>\n",
              "      <td>2019.0</td>\n",
              "      <td>0.1622</td>\n",
              "      <td>0.6656</td>\n",
              "      <td>0.7119</td>\n",
              "      <td>0.2654</td>\n",
              "      <td>0.4601</td>\n",
              "      <td>0.11890</td>\n",
              "      <td>NaN</td>\n",
              "    </tr>\n",
              "    <tr>\n",
              "      <th>1</th>\n",
              "      <td>842517</td>\n",
              "      <td>M</td>\n",
              "      <td>20.57</td>\n",
              "      <td>17.77</td>\n",
              "      <td>132.90</td>\n",
              "      <td>1326.0</td>\n",
              "      <td>0.08474</td>\n",
              "      <td>0.07864</td>\n",
              "      <td>0.0869</td>\n",
              "      <td>0.07017</td>\n",
              "      <td>...</td>\n",
              "      <td>23.41</td>\n",
              "      <td>158.80</td>\n",
              "      <td>1956.0</td>\n",
              "      <td>0.1238</td>\n",
              "      <td>0.1866</td>\n",
              "      <td>0.2416</td>\n",
              "      <td>0.1860</td>\n",
              "      <td>0.2750</td>\n",
              "      <td>0.08902</td>\n",
              "      <td>NaN</td>\n",
              "    </tr>\n",
              "    <tr>\n",
              "      <th>2</th>\n",
              "      <td>84300903</td>\n",
              "      <td>M</td>\n",
              "      <td>19.69</td>\n",
              "      <td>21.25</td>\n",
              "      <td>130.00</td>\n",
              "      <td>1203.0</td>\n",
              "      <td>0.10960</td>\n",
              "      <td>0.15990</td>\n",
              "      <td>0.1974</td>\n",
              "      <td>0.12790</td>\n",
              "      <td>...</td>\n",
              "      <td>25.53</td>\n",
              "      <td>152.50</td>\n",
              "      <td>1709.0</td>\n",
              "      <td>0.1444</td>\n",
              "      <td>0.4245</td>\n",
              "      <td>0.4504</td>\n",
              "      <td>0.2430</td>\n",
              "      <td>0.3613</td>\n",
              "      <td>0.08758</td>\n",
              "      <td>NaN</td>\n",
              "    </tr>\n",
              "    <tr>\n",
              "      <th>3</th>\n",
              "      <td>84348301</td>\n",
              "      <td>M</td>\n",
              "      <td>11.42</td>\n",
              "      <td>20.38</td>\n",
              "      <td>77.58</td>\n",
              "      <td>386.1</td>\n",
              "      <td>0.14250</td>\n",
              "      <td>0.28390</td>\n",
              "      <td>0.2414</td>\n",
              "      <td>0.10520</td>\n",
              "      <td>...</td>\n",
              "      <td>26.50</td>\n",
              "      <td>98.87</td>\n",
              "      <td>567.7</td>\n",
              "      <td>0.2098</td>\n",
              "      <td>0.8663</td>\n",
              "      <td>0.6869</td>\n",
              "      <td>0.2575</td>\n",
              "      <td>0.6638</td>\n",
              "      <td>0.17300</td>\n",
              "      <td>NaN</td>\n",
              "    </tr>\n",
              "    <tr>\n",
              "      <th>4</th>\n",
              "      <td>84358402</td>\n",
              "      <td>M</td>\n",
              "      <td>20.29</td>\n",
              "      <td>14.34</td>\n",
              "      <td>135.10</td>\n",
              "      <td>1297.0</td>\n",
              "      <td>0.10030</td>\n",
              "      <td>0.13280</td>\n",
              "      <td>0.1980</td>\n",
              "      <td>0.10430</td>\n",
              "      <td>...</td>\n",
              "      <td>16.67</td>\n",
              "      <td>152.20</td>\n",
              "      <td>1575.0</td>\n",
              "      <td>0.1374</td>\n",
              "      <td>0.2050</td>\n",
              "      <td>0.4000</td>\n",
              "      <td>0.1625</td>\n",
              "      <td>0.2364</td>\n",
              "      <td>0.07678</td>\n",
              "      <td>NaN</td>\n",
              "    </tr>\n",
              "  </tbody>\n",
              "</table>\n",
              "<p>5 rows × 33 columns</p>\n",
              "</div>"
            ],
            "text/plain": [
              "         id diagnosis  radius_mean  texture_mean  perimeter_mean  area_mean  \\\n",
              "0    842302         M        17.99         10.38          122.80     1001.0   \n",
              "1    842517         M        20.57         17.77          132.90     1326.0   \n",
              "2  84300903         M        19.69         21.25          130.00     1203.0   \n",
              "3  84348301         M        11.42         20.38           77.58      386.1   \n",
              "4  84358402         M        20.29         14.34          135.10     1297.0   \n",
              "\n",
              "   smoothness_mean  compactness_mean  concavity_mean  concave points_mean  \\\n",
              "0          0.11840           0.27760          0.3001              0.14710   \n",
              "1          0.08474           0.07864          0.0869              0.07017   \n",
              "2          0.10960           0.15990          0.1974              0.12790   \n",
              "3          0.14250           0.28390          0.2414              0.10520   \n",
              "4          0.10030           0.13280          0.1980              0.10430   \n",
              "\n",
              "   ...  texture_worst  perimeter_worst  area_worst  smoothness_worst  \\\n",
              "0  ...          17.33           184.60      2019.0            0.1622   \n",
              "1  ...          23.41           158.80      1956.0            0.1238   \n",
              "2  ...          25.53           152.50      1709.0            0.1444   \n",
              "3  ...          26.50            98.87       567.7            0.2098   \n",
              "4  ...          16.67           152.20      1575.0            0.1374   \n",
              "\n",
              "   compactness_worst  concavity_worst  concave points_worst  symmetry_worst  \\\n",
              "0             0.6656           0.7119                0.2654          0.4601   \n",
              "1             0.1866           0.2416                0.1860          0.2750   \n",
              "2             0.4245           0.4504                0.2430          0.3613   \n",
              "3             0.8663           0.6869                0.2575          0.6638   \n",
              "4             0.2050           0.4000                0.1625          0.2364   \n",
              "\n",
              "   fractal_dimension_worst  Unnamed: 32  \n",
              "0                  0.11890          NaN  \n",
              "1                  0.08902          NaN  \n",
              "2                  0.08758          NaN  \n",
              "3                  0.17300          NaN  \n",
              "4                  0.07678          NaN  \n",
              "\n",
              "[5 rows x 33 columns]"
            ]
          },
          "execution_count": 3,
          "metadata": {},
          "output_type": "execute_result"
        }
      ],
      "source": [
        "df.head()"
      ]
    },
    {
      "cell_type": "code",
      "execution_count": null,
      "metadata": {
        "id": "2c7UrZZJjRpF",
        "outputId": "803fff82-4ce3-4fa8-ab8b-7db2943a64bf"
      },
      "outputs": [
        {
          "data": {
            "text/plain": [
              "(569, 33)"
            ]
          },
          "execution_count": 4,
          "metadata": {},
          "output_type": "execute_result"
        }
      ],
      "source": [
        "df.shape"
      ]
    },
    {
      "cell_type": "code",
      "execution_count": null,
      "metadata": {
        "id": "dWKHDiqEjRpH",
        "outputId": "75481360-b6df-4aa7-fc99-5611b6235806"
      },
      "outputs": [
        {
          "data": {
            "text/plain": [
              "Index(['id', 'diagnosis', 'radius_mean', 'texture_mean', 'perimeter_mean',\n",
              "       'area_mean', 'smoothness_mean', 'compactness_mean', 'concavity_mean',\n",
              "       'concave points_mean', 'symmetry_mean', 'fractal_dimension_mean',\n",
              "       'radius_se', 'texture_se', 'perimeter_se', 'area_se', 'smoothness_se',\n",
              "       'compactness_se', 'concavity_se', 'concave points_se', 'symmetry_se',\n",
              "       'fractal_dimension_se', 'radius_worst', 'texture_worst',\n",
              "       'perimeter_worst', 'area_worst', 'smoothness_worst',\n",
              "       'compactness_worst', 'concavity_worst', 'concave points_worst',\n",
              "       'symmetry_worst', 'fractal_dimension_worst', 'Unnamed: 32'],\n",
              "      dtype='object')"
            ]
          },
          "execution_count": 5,
          "metadata": {},
          "output_type": "execute_result"
        }
      ],
      "source": [
        "df.columns"
      ]
    },
    {
      "cell_type": "code",
      "execution_count": null,
      "metadata": {
        "id": "jnG99ea8jRpI"
      },
      "outputs": [],
      "source": [
        "## remove the ID and the unnamed column at the end\n",
        "df = df.iloc[:,1:df.shape[1]-1]"
      ]
    },
    {
      "cell_type": "code",
      "execution_count": null,
      "metadata": {
        "id": "LC1eQIRyjRpK",
        "outputId": "344c6973-eb28-4498-d177-01721e62ec9a"
      },
      "outputs": [
        {
          "data": {
            "text/html": [
              "<div>\n",
              "<style scoped>\n",
              "    .dataframe tbody tr th:only-of-type {\n",
              "        vertical-align: middle;\n",
              "    }\n",
              "\n",
              "    .dataframe tbody tr th {\n",
              "        vertical-align: top;\n",
              "    }\n",
              "\n",
              "    .dataframe thead th {\n",
              "        text-align: right;\n",
              "    }\n",
              "</style>\n",
              "<table border=\"1\" class=\"dataframe\">\n",
              "  <thead>\n",
              "    <tr style=\"text-align: right;\">\n",
              "      <th></th>\n",
              "      <th>diagnosis</th>\n",
              "      <th>radius_mean</th>\n",
              "      <th>texture_mean</th>\n",
              "      <th>perimeter_mean</th>\n",
              "      <th>area_mean</th>\n",
              "      <th>smoothness_mean</th>\n",
              "      <th>compactness_mean</th>\n",
              "      <th>concavity_mean</th>\n",
              "      <th>concave points_mean</th>\n",
              "      <th>symmetry_mean</th>\n",
              "      <th>...</th>\n",
              "      <th>radius_worst</th>\n",
              "      <th>texture_worst</th>\n",
              "      <th>perimeter_worst</th>\n",
              "      <th>area_worst</th>\n",
              "      <th>smoothness_worst</th>\n",
              "      <th>compactness_worst</th>\n",
              "      <th>concavity_worst</th>\n",
              "      <th>concave points_worst</th>\n",
              "      <th>symmetry_worst</th>\n",
              "      <th>fractal_dimension_worst</th>\n",
              "    </tr>\n",
              "  </thead>\n",
              "  <tbody>\n",
              "    <tr>\n",
              "      <th>0</th>\n",
              "      <td>M</td>\n",
              "      <td>17.99</td>\n",
              "      <td>10.38</td>\n",
              "      <td>122.80</td>\n",
              "      <td>1001.0</td>\n",
              "      <td>0.11840</td>\n",
              "      <td>0.27760</td>\n",
              "      <td>0.3001</td>\n",
              "      <td>0.14710</td>\n",
              "      <td>0.2419</td>\n",
              "      <td>...</td>\n",
              "      <td>25.38</td>\n",
              "      <td>17.33</td>\n",
              "      <td>184.60</td>\n",
              "      <td>2019.0</td>\n",
              "      <td>0.1622</td>\n",
              "      <td>0.6656</td>\n",
              "      <td>0.7119</td>\n",
              "      <td>0.2654</td>\n",
              "      <td>0.4601</td>\n",
              "      <td>0.11890</td>\n",
              "    </tr>\n",
              "    <tr>\n",
              "      <th>1</th>\n",
              "      <td>M</td>\n",
              "      <td>20.57</td>\n",
              "      <td>17.77</td>\n",
              "      <td>132.90</td>\n",
              "      <td>1326.0</td>\n",
              "      <td>0.08474</td>\n",
              "      <td>0.07864</td>\n",
              "      <td>0.0869</td>\n",
              "      <td>0.07017</td>\n",
              "      <td>0.1812</td>\n",
              "      <td>...</td>\n",
              "      <td>24.99</td>\n",
              "      <td>23.41</td>\n",
              "      <td>158.80</td>\n",
              "      <td>1956.0</td>\n",
              "      <td>0.1238</td>\n",
              "      <td>0.1866</td>\n",
              "      <td>0.2416</td>\n",
              "      <td>0.1860</td>\n",
              "      <td>0.2750</td>\n",
              "      <td>0.08902</td>\n",
              "    </tr>\n",
              "    <tr>\n",
              "      <th>2</th>\n",
              "      <td>M</td>\n",
              "      <td>19.69</td>\n",
              "      <td>21.25</td>\n",
              "      <td>130.00</td>\n",
              "      <td>1203.0</td>\n",
              "      <td>0.10960</td>\n",
              "      <td>0.15990</td>\n",
              "      <td>0.1974</td>\n",
              "      <td>0.12790</td>\n",
              "      <td>0.2069</td>\n",
              "      <td>...</td>\n",
              "      <td>23.57</td>\n",
              "      <td>25.53</td>\n",
              "      <td>152.50</td>\n",
              "      <td>1709.0</td>\n",
              "      <td>0.1444</td>\n",
              "      <td>0.4245</td>\n",
              "      <td>0.4504</td>\n",
              "      <td>0.2430</td>\n",
              "      <td>0.3613</td>\n",
              "      <td>0.08758</td>\n",
              "    </tr>\n",
              "    <tr>\n",
              "      <th>3</th>\n",
              "      <td>M</td>\n",
              "      <td>11.42</td>\n",
              "      <td>20.38</td>\n",
              "      <td>77.58</td>\n",
              "      <td>386.1</td>\n",
              "      <td>0.14250</td>\n",
              "      <td>0.28390</td>\n",
              "      <td>0.2414</td>\n",
              "      <td>0.10520</td>\n",
              "      <td>0.2597</td>\n",
              "      <td>...</td>\n",
              "      <td>14.91</td>\n",
              "      <td>26.50</td>\n",
              "      <td>98.87</td>\n",
              "      <td>567.7</td>\n",
              "      <td>0.2098</td>\n",
              "      <td>0.8663</td>\n",
              "      <td>0.6869</td>\n",
              "      <td>0.2575</td>\n",
              "      <td>0.6638</td>\n",
              "      <td>0.17300</td>\n",
              "    </tr>\n",
              "    <tr>\n",
              "      <th>4</th>\n",
              "      <td>M</td>\n",
              "      <td>20.29</td>\n",
              "      <td>14.34</td>\n",
              "      <td>135.10</td>\n",
              "      <td>1297.0</td>\n",
              "      <td>0.10030</td>\n",
              "      <td>0.13280</td>\n",
              "      <td>0.1980</td>\n",
              "      <td>0.10430</td>\n",
              "      <td>0.1809</td>\n",
              "      <td>...</td>\n",
              "      <td>22.54</td>\n",
              "      <td>16.67</td>\n",
              "      <td>152.20</td>\n",
              "      <td>1575.0</td>\n",
              "      <td>0.1374</td>\n",
              "      <td>0.2050</td>\n",
              "      <td>0.4000</td>\n",
              "      <td>0.1625</td>\n",
              "      <td>0.2364</td>\n",
              "      <td>0.07678</td>\n",
              "    </tr>\n",
              "  </tbody>\n",
              "</table>\n",
              "<p>5 rows × 31 columns</p>\n",
              "</div>"
            ],
            "text/plain": [
              "  diagnosis  radius_mean  texture_mean  perimeter_mean  area_mean  \\\n",
              "0         M        17.99         10.38          122.80     1001.0   \n",
              "1         M        20.57         17.77          132.90     1326.0   \n",
              "2         M        19.69         21.25          130.00     1203.0   \n",
              "3         M        11.42         20.38           77.58      386.1   \n",
              "4         M        20.29         14.34          135.10     1297.0   \n",
              "\n",
              "   smoothness_mean  compactness_mean  concavity_mean  concave points_mean  \\\n",
              "0          0.11840           0.27760          0.3001              0.14710   \n",
              "1          0.08474           0.07864          0.0869              0.07017   \n",
              "2          0.10960           0.15990          0.1974              0.12790   \n",
              "3          0.14250           0.28390          0.2414              0.10520   \n",
              "4          0.10030           0.13280          0.1980              0.10430   \n",
              "\n",
              "   symmetry_mean  ...  radius_worst  texture_worst  perimeter_worst  \\\n",
              "0         0.2419  ...         25.38          17.33           184.60   \n",
              "1         0.1812  ...         24.99          23.41           158.80   \n",
              "2         0.2069  ...         23.57          25.53           152.50   \n",
              "3         0.2597  ...         14.91          26.50            98.87   \n",
              "4         0.1809  ...         22.54          16.67           152.20   \n",
              "\n",
              "   area_worst  smoothness_worst  compactness_worst  concavity_worst  \\\n",
              "0      2019.0            0.1622             0.6656           0.7119   \n",
              "1      1956.0            0.1238             0.1866           0.2416   \n",
              "2      1709.0            0.1444             0.4245           0.4504   \n",
              "3       567.7            0.2098             0.8663           0.6869   \n",
              "4      1575.0            0.1374             0.2050           0.4000   \n",
              "\n",
              "   concave points_worst  symmetry_worst  fractal_dimension_worst  \n",
              "0                0.2654          0.4601                  0.11890  \n",
              "1                0.1860          0.2750                  0.08902  \n",
              "2                0.2430          0.3613                  0.08758  \n",
              "3                0.2575          0.6638                  0.17300  \n",
              "4                0.1625          0.2364                  0.07678  \n",
              "\n",
              "[5 rows x 31 columns]"
            ]
          },
          "execution_count": 7,
          "metadata": {},
          "output_type": "execute_result"
        }
      ],
      "source": [
        "df.head()"
      ]
    },
    {
      "cell_type": "code",
      "execution_count": null,
      "metadata": {
        "id": "v-bQo-J5jRpM",
        "outputId": "4eff0deb-1f4c-478b-d08f-6cdc39b7b763"
      },
      "outputs": [
        {
          "data": {
            "text/plain": [
              "(569, 31)"
            ]
          },
          "execution_count": 8,
          "metadata": {},
          "output_type": "execute_result"
        }
      ],
      "source": [
        "df.shape"
      ]
    },
    {
      "cell_type": "code",
      "execution_count": null,
      "metadata": {
        "id": "bx8ISxkhjRpO",
        "outputId": "4d749437-5a51-4fb6-8c2b-49133236bed7"
      },
      "outputs": [
        {
          "data": {
            "text/plain": [
              "diagnosis                  0\n",
              "radius_mean                0\n",
              "texture_mean               0\n",
              "perimeter_mean             0\n",
              "area_mean                  0\n",
              "smoothness_mean            0\n",
              "compactness_mean           0\n",
              "concavity_mean             0\n",
              "concave points_mean        0\n",
              "symmetry_mean              0\n",
              "fractal_dimension_mean     0\n",
              "radius_se                  0\n",
              "texture_se                 0\n",
              "perimeter_se               0\n",
              "area_se                    0\n",
              "smoothness_se              0\n",
              "compactness_se             0\n",
              "concavity_se               0\n",
              "concave points_se          0\n",
              "symmetry_se                0\n",
              "fractal_dimension_se       0\n",
              "radius_worst               0\n",
              "texture_worst              0\n",
              "perimeter_worst            0\n",
              "area_worst                 0\n",
              "smoothness_worst           0\n",
              "compactness_worst          0\n",
              "concavity_worst            0\n",
              "concave points_worst       0\n",
              "symmetry_worst             0\n",
              "fractal_dimension_worst    0\n",
              "dtype: int64"
            ]
          },
          "execution_count": 9,
          "metadata": {},
          "output_type": "execute_result"
        }
      ],
      "source": [
        "df.isna().sum()"
      ]
    },
    {
      "cell_type": "code",
      "execution_count": null,
      "metadata": {
        "id": "3wu_3qutjRpQ",
        "outputId": "0f6e5c61-6f64-4033-91c5-062dac6d13e0"
      },
      "outputs": [
        {
          "data": {
            "text/plain": [
              "0    0.627417\n",
              "1    0.372583\n",
              "Name: diagnosis, dtype: float64"
            ]
          },
          "execution_count": 67,
          "metadata": {},
          "output_type": "execute_result"
        }
      ],
      "source": [
        "df['diagnosis'].value_counts()/df.shape[0]"
      ]
    },
    {
      "cell_type": "code",
      "execution_count": null,
      "metadata": {
        "id": "X84ZbliBjRpR"
      },
      "outputs": [],
      "source": [
        "# Encode the diagnosis column to 0,1 where 1 means that the cancer is malignant and 0 means it is benign\n",
        "df['diagnosis'] = df['diagnosis'].map({'M': 1, 'B' : 0})"
      ]
    },
    {
      "cell_type": "code",
      "execution_count": null,
      "metadata": {
        "id": "-h6UQEj6jRpT",
        "outputId": "fa4f013b-80fe-42b2-f60b-72a903c9f0a5"
      },
      "outputs": [
        {
          "data": {
            "text/html": [
              "<div>\n",
              "<style scoped>\n",
              "    .dataframe tbody tr th:only-of-type {\n",
              "        vertical-align: middle;\n",
              "    }\n",
              "\n",
              "    .dataframe tbody tr th {\n",
              "        vertical-align: top;\n",
              "    }\n",
              "\n",
              "    .dataframe thead th {\n",
              "        text-align: right;\n",
              "    }\n",
              "</style>\n",
              "<table border=\"1\" class=\"dataframe\">\n",
              "  <thead>\n",
              "    <tr style=\"text-align: right;\">\n",
              "      <th></th>\n",
              "      <th>diagnosis</th>\n",
              "      <th>radius_mean</th>\n",
              "      <th>texture_mean</th>\n",
              "      <th>perimeter_mean</th>\n",
              "      <th>area_mean</th>\n",
              "      <th>smoothness_mean</th>\n",
              "      <th>compactness_mean</th>\n",
              "      <th>concavity_mean</th>\n",
              "      <th>concave points_mean</th>\n",
              "      <th>symmetry_mean</th>\n",
              "      <th>...</th>\n",
              "      <th>radius_worst</th>\n",
              "      <th>texture_worst</th>\n",
              "      <th>perimeter_worst</th>\n",
              "      <th>area_worst</th>\n",
              "      <th>smoothness_worst</th>\n",
              "      <th>compactness_worst</th>\n",
              "      <th>concavity_worst</th>\n",
              "      <th>concave points_worst</th>\n",
              "      <th>symmetry_worst</th>\n",
              "      <th>fractal_dimension_worst</th>\n",
              "    </tr>\n",
              "  </thead>\n",
              "  <tbody>\n",
              "    <tr>\n",
              "      <th>0</th>\n",
              "      <td>1</td>\n",
              "      <td>17.99</td>\n",
              "      <td>10.38</td>\n",
              "      <td>122.80</td>\n",
              "      <td>1001.0</td>\n",
              "      <td>0.11840</td>\n",
              "      <td>0.27760</td>\n",
              "      <td>0.3001</td>\n",
              "      <td>0.14710</td>\n",
              "      <td>0.2419</td>\n",
              "      <td>...</td>\n",
              "      <td>25.38</td>\n",
              "      <td>17.33</td>\n",
              "      <td>184.60</td>\n",
              "      <td>2019.0</td>\n",
              "      <td>0.1622</td>\n",
              "      <td>0.6656</td>\n",
              "      <td>0.7119</td>\n",
              "      <td>0.2654</td>\n",
              "      <td>0.4601</td>\n",
              "      <td>0.11890</td>\n",
              "    </tr>\n",
              "    <tr>\n",
              "      <th>1</th>\n",
              "      <td>1</td>\n",
              "      <td>20.57</td>\n",
              "      <td>17.77</td>\n",
              "      <td>132.90</td>\n",
              "      <td>1326.0</td>\n",
              "      <td>0.08474</td>\n",
              "      <td>0.07864</td>\n",
              "      <td>0.0869</td>\n",
              "      <td>0.07017</td>\n",
              "      <td>0.1812</td>\n",
              "      <td>...</td>\n",
              "      <td>24.99</td>\n",
              "      <td>23.41</td>\n",
              "      <td>158.80</td>\n",
              "      <td>1956.0</td>\n",
              "      <td>0.1238</td>\n",
              "      <td>0.1866</td>\n",
              "      <td>0.2416</td>\n",
              "      <td>0.1860</td>\n",
              "      <td>0.2750</td>\n",
              "      <td>0.08902</td>\n",
              "    </tr>\n",
              "    <tr>\n",
              "      <th>2</th>\n",
              "      <td>1</td>\n",
              "      <td>19.69</td>\n",
              "      <td>21.25</td>\n",
              "      <td>130.00</td>\n",
              "      <td>1203.0</td>\n",
              "      <td>0.10960</td>\n",
              "      <td>0.15990</td>\n",
              "      <td>0.1974</td>\n",
              "      <td>0.12790</td>\n",
              "      <td>0.2069</td>\n",
              "      <td>...</td>\n",
              "      <td>23.57</td>\n",
              "      <td>25.53</td>\n",
              "      <td>152.50</td>\n",
              "      <td>1709.0</td>\n",
              "      <td>0.1444</td>\n",
              "      <td>0.4245</td>\n",
              "      <td>0.4504</td>\n",
              "      <td>0.2430</td>\n",
              "      <td>0.3613</td>\n",
              "      <td>0.08758</td>\n",
              "    </tr>\n",
              "    <tr>\n",
              "      <th>3</th>\n",
              "      <td>1</td>\n",
              "      <td>11.42</td>\n",
              "      <td>20.38</td>\n",
              "      <td>77.58</td>\n",
              "      <td>386.1</td>\n",
              "      <td>0.14250</td>\n",
              "      <td>0.28390</td>\n",
              "      <td>0.2414</td>\n",
              "      <td>0.10520</td>\n",
              "      <td>0.2597</td>\n",
              "      <td>...</td>\n",
              "      <td>14.91</td>\n",
              "      <td>26.50</td>\n",
              "      <td>98.87</td>\n",
              "      <td>567.7</td>\n",
              "      <td>0.2098</td>\n",
              "      <td>0.8663</td>\n",
              "      <td>0.6869</td>\n",
              "      <td>0.2575</td>\n",
              "      <td>0.6638</td>\n",
              "      <td>0.17300</td>\n",
              "    </tr>\n",
              "    <tr>\n",
              "      <th>4</th>\n",
              "      <td>1</td>\n",
              "      <td>20.29</td>\n",
              "      <td>14.34</td>\n",
              "      <td>135.10</td>\n",
              "      <td>1297.0</td>\n",
              "      <td>0.10030</td>\n",
              "      <td>0.13280</td>\n",
              "      <td>0.1980</td>\n",
              "      <td>0.10430</td>\n",
              "      <td>0.1809</td>\n",
              "      <td>...</td>\n",
              "      <td>22.54</td>\n",
              "      <td>16.67</td>\n",
              "      <td>152.20</td>\n",
              "      <td>1575.0</td>\n",
              "      <td>0.1374</td>\n",
              "      <td>0.2050</td>\n",
              "      <td>0.4000</td>\n",
              "      <td>0.1625</td>\n",
              "      <td>0.2364</td>\n",
              "      <td>0.07678</td>\n",
              "    </tr>\n",
              "  </tbody>\n",
              "</table>\n",
              "<p>5 rows × 31 columns</p>\n",
              "</div>"
            ],
            "text/plain": [
              "   diagnosis  radius_mean  texture_mean  perimeter_mean  area_mean  \\\n",
              "0          1        17.99         10.38          122.80     1001.0   \n",
              "1          1        20.57         17.77          132.90     1326.0   \n",
              "2          1        19.69         21.25          130.00     1203.0   \n",
              "3          1        11.42         20.38           77.58      386.1   \n",
              "4          1        20.29         14.34          135.10     1297.0   \n",
              "\n",
              "   smoothness_mean  compactness_mean  concavity_mean  concave points_mean  \\\n",
              "0          0.11840           0.27760          0.3001              0.14710   \n",
              "1          0.08474           0.07864          0.0869              0.07017   \n",
              "2          0.10960           0.15990          0.1974              0.12790   \n",
              "3          0.14250           0.28390          0.2414              0.10520   \n",
              "4          0.10030           0.13280          0.1980              0.10430   \n",
              "\n",
              "   symmetry_mean  ...  radius_worst  texture_worst  perimeter_worst  \\\n",
              "0         0.2419  ...         25.38          17.33           184.60   \n",
              "1         0.1812  ...         24.99          23.41           158.80   \n",
              "2         0.2069  ...         23.57          25.53           152.50   \n",
              "3         0.2597  ...         14.91          26.50            98.87   \n",
              "4         0.1809  ...         22.54          16.67           152.20   \n",
              "\n",
              "   area_worst  smoothness_worst  compactness_worst  concavity_worst  \\\n",
              "0      2019.0            0.1622             0.6656           0.7119   \n",
              "1      1956.0            0.1238             0.1866           0.2416   \n",
              "2      1709.0            0.1444             0.4245           0.4504   \n",
              "3       567.7            0.2098             0.8663           0.6869   \n",
              "4      1575.0            0.1374             0.2050           0.4000   \n",
              "\n",
              "   concave points_worst  symmetry_worst  fractal_dimension_worst  \n",
              "0                0.2654          0.4601                  0.11890  \n",
              "1                0.1860          0.2750                  0.08902  \n",
              "2                0.2430          0.3613                  0.08758  \n",
              "3                0.2575          0.6638                  0.17300  \n",
              "4                0.1625          0.2364                  0.07678  \n",
              "\n",
              "[5 rows x 31 columns]"
            ]
          },
          "execution_count": 12,
          "metadata": {},
          "output_type": "execute_result"
        }
      ],
      "source": [
        "df.head()"
      ]
    },
    {
      "cell_type": "code",
      "execution_count": null,
      "metadata": {
        "id": "l7Hvhx6YjRpU",
        "outputId": "3cc53112-4483-46b8-b182-8ec39e089663"
      },
      "outputs": [
        {
          "data": {
            "text/plain": [
              "0    357\n",
              "1    212\n",
              "Name: diagnosis, dtype: int64"
            ]
          },
          "execution_count": 13,
          "metadata": {},
          "output_type": "execute_result"
        }
      ],
      "source": [
        "df['diagnosis'].value_counts()"
      ]
    },
    {
      "cell_type": "code",
      "execution_count": null,
      "metadata": {
        "id": "pGjSmI6pjRpW"
      },
      "outputs": [],
      "source": [
        "# Prepare X and y\n",
        "X = df.drop(['diagnosis'],axis=1)\n",
        "y = df['diagnosis']"
      ]
    },
    {
      "cell_type": "code",
      "execution_count": null,
      "metadata": {
        "id": "YlxgOG6BjRpX"
      },
      "outputs": [],
      "source": [
        "from sklearn.model_selection import train_test_split"
      ]
    },
    {
      "cell_type": "code",
      "execution_count": null,
      "metadata": {
        "id": "HfTblNdLjRpY"
      },
      "outputs": [],
      "source": [
        "# Split into training and testing\n",
        "X_train, X_test, y_train,y_test = train_test_split(X,\n",
        "                                                   y, \n",
        "                                                   stratify = y, \n",
        "                                                   train_size = 0.8, \n",
        "                                                   random_state = 12345)"
      ]
    },
    {
      "cell_type": "code",
      "execution_count": null,
      "metadata": {
        "id": "Zd99HNqbjRpZ",
        "outputId": "bb8e5cc3-86a5-4d90-8bd8-51492382be6f"
      },
      "outputs": [
        {
          "name": "stdout",
          "output_type": "stream",
          "text": [
            "Train shape (455, 30) (455,)\n"
          ]
        }
      ],
      "source": [
        "print(f\"Train shape {X_train.shape} {y_train.shape}\")"
      ]
    },
    {
      "cell_type": "code",
      "execution_count": null,
      "metadata": {
        "id": "f_N4UtYujRpa",
        "outputId": "21818111-792e-49e4-8b66-869404320bbe"
      },
      "outputs": [
        {
          "name": "stdout",
          "output_type": "stream",
          "text": [
            "Test shape (114, 30) (114,)\n"
          ]
        }
      ],
      "source": [
        "print(f\"Test shape {X_test.shape} {y_test.shape}\")"
      ]
    },
    {
      "cell_type": "code",
      "execution_count": null,
      "metadata": {
        "id": "9rfQiOe2jRpc"
      },
      "outputs": [],
      "source": [
        "from sklearn.preprocessing import StandardScaler"
      ]
    },
    {
      "cell_type": "code",
      "execution_count": null,
      "metadata": {
        "id": "-q0CAQz-jRpc"
      },
      "outputs": [],
      "source": [
        "### (x-mu)/sigma\n",
        "\n",
        "scaler = StandardScaler()\n",
        "X_train_sc = scaler.fit_transform(X_train)\n",
        "X_test_sc = scaler.transform(X_test)"
      ]
    },
    {
      "cell_type": "code",
      "execution_count": null,
      "metadata": {
        "id": "w-CAg2y-jRpd"
      },
      "outputs": [],
      "source": [
        "#X_train_sc[0:5]"
      ]
    },
    {
      "cell_type": "code",
      "execution_count": null,
      "metadata": {
        "id": "crAsTP87jRpe"
      },
      "outputs": [],
      "source": [
        "# We transpose the X matrix so that each column represents a sample and rows are the features\n",
        "\n",
        "X_train_n = X_train_sc.T\n",
        "X_test_n = X_test_sc.T\n",
        "y_train_n = y_train.values.reshape(1,-1)\n",
        "y_test_n = y_test.values.reshape(1,-1)"
      ]
    },
    {
      "cell_type": "code",
      "execution_count": null,
      "metadata": {
        "id": "iA1UtoNojRpf",
        "outputId": "b4e11472-c3c1-4bcc-f37a-916722625005"
      },
      "outputs": [
        {
          "data": {
            "text/plain": [
              "(1, 455)"
            ]
          },
          "execution_count": 23,
          "metadata": {},
          "output_type": "execute_result"
        }
      ],
      "source": [
        "y_train_n.shape"
      ]
    },
    {
      "cell_type": "code",
      "execution_count": null,
      "metadata": {
        "id": "YLJ_COh3jRpg",
        "outputId": "d7bc6e81-f4ed-4230-95de-00f687883541"
      },
      "outputs": [
        {
          "data": {
            "text/plain": [
              "(30, 455)"
            ]
          },
          "execution_count": 24,
          "metadata": {},
          "output_type": "execute_result"
        }
      ],
      "source": [
        "X_train_n.shape"
      ]
    },
    {
      "cell_type": "code",
      "execution_count": null,
      "metadata": {
        "id": "QTgk9buPjRp-",
        "outputId": "9932a755-ed62-4e29-dbf2-a638f206403c"
      },
      "outputs": [
        {
          "name": "stdout",
          "output_type": "stream",
          "text": [
            "train shape (30, 455) (1, 455)\n"
          ]
        }
      ],
      "source": [
        "print(f\"train shape {X_train_n.shape} {y_train_n.shape}\")"
      ]
    },
    {
      "cell_type": "code",
      "execution_count": null,
      "metadata": {
        "id": "_ZRUWUjSjRp_",
        "outputId": "92ac5f45-32eb-48c3-fb4b-f6f839a774c1"
      },
      "outputs": [
        {
          "name": "stdout",
          "output_type": "stream",
          "text": [
            "test shape (30, 114) (1, 114)\n"
          ]
        }
      ],
      "source": [
        "print(f\"test shape {X_test_n.shape} {y_test_n.shape}\")"
      ]
    },
    {
      "cell_type": "code",
      "execution_count": null,
      "metadata": {
        "id": "rtJzQCI8jRqA"
      },
      "outputs": [],
      "source": [
        "import scipy as sc"
      ]
    },
    {
      "cell_type": "code",
      "execution_count": null,
      "metadata": {
        "id": "XNkSWQhYjRqB",
        "outputId": "d1dc2635-399f-4472-a967-809e108ddd5c"
      },
      "outputs": [
        {
          "data": {
            "text/plain": [
              "0.6224593312018546"
            ]
          },
          "execution_count": 28,
          "metadata": {},
          "output_type": "execute_result"
        }
      ],
      "source": [
        "sc.special.expit(0.5)"
      ]
    },
    {
      "cell_type": "code",
      "execution_count": null,
      "metadata": {
        "id": "xbQpo12sjRqC",
        "outputId": "9d1637ad-6bd5-450b-f205-9772ede9f278"
      },
      "outputs": [
        {
          "data": {
            "text/plain": [
              "0.6224593312018546"
            ]
          },
          "execution_count": 29,
          "metadata": {},
          "output_type": "execute_result"
        }
      ],
      "source": [
        "## Sigmoid = 1/(1+exp(-z))\n",
        "\n",
        "1/(1+np.exp(-0.5))"
      ]
    },
    {
      "cell_type": "code",
      "execution_count": null,
      "metadata": {
        "id": "qZYLj6QLjRqD"
      },
      "outputs": [],
      "source": [
        "# Initialize weights to 0\n",
        "w = np.zeros((X_train_n.shape[0],1))"
      ]
    },
    {
      "cell_type": "code",
      "execution_count": null,
      "metadata": {
        "id": "Ez7wDWFFjRqE",
        "outputId": "78beae25-9fd3-488f-ff23-03d311709d80"
      },
      "outputs": [
        {
          "data": {
            "text/plain": [
              "(30, 1)"
            ]
          },
          "execution_count": 31,
          "metadata": {},
          "output_type": "execute_result"
        }
      ],
      "source": [
        "w.shape"
      ]
    },
    {
      "cell_type": "code",
      "execution_count": null,
      "metadata": {
        "id": "FIvHLkACjRqF"
      },
      "outputs": [],
      "source": [
        "## A -> (m,n), B -> (n,p)\n",
        "## A*B -> (m,p)"
      ]
    },
    {
      "cell_type": "code",
      "execution_count": null,
      "metadata": {
        "id": "CsM_sam2jRqG"
      },
      "outputs": [],
      "source": [
        "b = 0"
      ]
    },
    {
      "cell_type": "code",
      "execution_count": null,
      "metadata": {
        "id": "6F8_IjUJjRqG"
      },
      "outputs": [],
      "source": [
        "alpha = 0.01 ## Learning Rate\n",
        "num_iters = 100 # Also known as Epochs"
      ]
    },
    {
      "cell_type": "code",
      "execution_count": null,
      "metadata": {
        "id": "hCAKdSpBjRqH"
      },
      "outputs": [],
      "source": [
        "costs = []\n",
        "m = X_train_n.shape[1]"
      ]
    },
    {
      "cell_type": "code",
      "execution_count": null,
      "metadata": {
        "id": "j9yDNY5MjRqI",
        "outputId": "d4f4e70d-607d-4e08-96f2-af987461e529"
      },
      "outputs": [
        {
          "data": {
            "text/plain": [
              "455"
            ]
          },
          "execution_count": 36,
          "metadata": {},
          "output_type": "execute_result"
        }
      ],
      "source": [
        "m"
      ]
    },
    {
      "cell_type": "code",
      "execution_count": null,
      "metadata": {
        "id": "12-HJaMAjRqJ",
        "outputId": "f1a3d253-2747-49ef-bb26-583ed9aa4ece"
      },
      "outputs": [
        {
          "name": "stdout",
          "output_type": "stream",
          "text": [
            "Iteration 0\n",
            "Iteration 1\n",
            "Iteration 2\n",
            "Iteration 3\n",
            "Iteration 4\n",
            "Iteration 5\n",
            "Iteration 6\n",
            "Iteration 7\n",
            "Iteration 8\n",
            "Iteration 9\n",
            "Iteration 10\n",
            "Iteration 11\n",
            "Iteration 12\n",
            "Iteration 13\n",
            "Iteration 14\n",
            "Iteration 15\n",
            "Iteration 16\n",
            "Iteration 17\n",
            "Iteration 18\n",
            "Iteration 19\n",
            "Iteration 20\n",
            "Iteration 21\n",
            "Iteration 22\n",
            "Iteration 23\n",
            "Iteration 24\n",
            "Iteration 25\n",
            "Iteration 26\n",
            "Iteration 27\n",
            "Iteration 28\n",
            "Iteration 29\n",
            "Iteration 30\n",
            "Iteration 31\n",
            "Iteration 32\n",
            "Iteration 33\n",
            "Iteration 34\n",
            "Iteration 35\n",
            "Iteration 36\n",
            "Iteration 37\n",
            "Iteration 38\n",
            "Iteration 39\n",
            "Iteration 40\n",
            "Iteration 41\n",
            "Iteration 42\n",
            "Iteration 43\n",
            "Iteration 44\n",
            "Iteration 45\n",
            "Iteration 46\n",
            "Iteration 47\n",
            "Iteration 48\n",
            "Iteration 49\n",
            "Iteration 50\n",
            "Iteration 51\n",
            "Iteration 52\n",
            "Iteration 53\n",
            "Iteration 54\n",
            "Iteration 55\n",
            "Iteration 56\n",
            "Iteration 57\n",
            "Iteration 58\n",
            "Iteration 59\n",
            "Iteration 60\n",
            "Iteration 61\n",
            "Iteration 62\n",
            "Iteration 63\n",
            "Iteration 64\n",
            "Iteration 65\n",
            "Iteration 66\n",
            "Iteration 67\n",
            "Iteration 68\n",
            "Iteration 69\n",
            "Iteration 70\n",
            "Iteration 71\n",
            "Iteration 72\n",
            "Iteration 73\n",
            "Iteration 74\n",
            "Iteration 75\n",
            "Iteration 76\n",
            "Iteration 77\n",
            "Iteration 78\n",
            "Iteration 79\n",
            "Iteration 80\n",
            "Iteration 81\n",
            "Iteration 82\n",
            "Iteration 83\n",
            "Iteration 84\n",
            "Iteration 85\n",
            "Iteration 86\n",
            "Iteration 87\n",
            "Iteration 88\n",
            "Iteration 89\n",
            "Iteration 90\n",
            "Iteration 91\n",
            "Iteration 92\n",
            "Iteration 93\n",
            "Iteration 94\n",
            "Iteration 95\n",
            "Iteration 96\n",
            "Iteration 97\n",
            "Iteration 98\n",
            "Iteration 99\n"
          ]
        }
      ],
      "source": [
        "for i in range(num_iters):\n",
        "    print(f\"Iteration {i}\")\n",
        "    \n",
        "    ## Calculate prediction based on the weights\n",
        "    ## Sigmoid(w.T*X+b)\n",
        "    A = sc.special.expit(np.dot(w.T,X_train_n)+b) ## Forward Propagation\n",
        "    \n",
        "    # Compute cost\n",
        "    cost = np.sum(((- np.log(A))*y_train_n + (-np.log(1-A))*(1-y_train_n)))/m\n",
        "    \n",
        "    ## Backward Propagation\n",
        "    dw = (np.dot(X_train_n,(A-y_train_n).T))/m ## dJ/dw\n",
        "    db = (np.sum(A-y_train_n))/m ## dJ/db\n",
        "    \n",
        "    ## Gradient Descent\n",
        "    w = w - alpha*dw # w = w - learning rate*dJ/dw\n",
        "    b = b - alpha*db # b = b - learning rate * dJ/db\n",
        "    \n",
        "    # Append cost for plotting\n",
        "    costs.append(np.squeeze(cost))"
      ]
    },
    {
      "cell_type": "code",
      "execution_count": null,
      "metadata": {
        "id": "Uz0S--oHjRqL"
      },
      "outputs": [],
      "source": [
        "nn_tr_predict = sc.special.expit(np.dot(w.T,X_train_n)+b) > 0.5 # Training set prediction\n",
        "nn_ts_predict = sc.special.expit(np.dot(w.T,X_test_n)+b) > 0.5 # Test set prediction"
      ]
    },
    {
      "cell_type": "code",
      "execution_count": null,
      "metadata": {
        "id": "q-TEKcjjjRqL",
        "outputId": "4e189bee-6122-470e-c7ed-f9be3d44752e"
      },
      "outputs": [
        {
          "data": {
            "text/plain": [
              "array([[1, 0, 0, 1, 0, 0, 0, 0, 0, 0, 0, 1, 0, 1, 0, 0, 1, 0, 1, 1, 1, 1,\n",
              "        1, 1, 0, 1, 1, 0, 0, 0, 0, 0, 1, 0, 1, 0, 0, 0, 0, 0, 0, 0, 1, 1,\n",
              "        1, 0, 0, 1, 0, 0, 1, 0, 0, 1, 0, 0, 1, 1, 0, 1, 0, 0, 1, 0, 0, 0,\n",
              "        1, 1, 1, 0, 1, 0, 0, 0, 1, 1, 0, 1, 0, 1, 0, 0, 1, 1, 0, 1, 0, 0,\n",
              "        0, 1, 0, 0, 0, 0, 0, 0, 0, 1, 0, 1, 0, 0, 1, 0, 0, 1, 0, 0, 0, 0,\n",
              "        0, 0, 0, 0]])"
            ]
          },
          "execution_count": 39,
          "metadata": {},
          "output_type": "execute_result"
        }
      ],
      "source": [
        "nn_ts_predict*1"
      ]
    },
    {
      "cell_type": "code",
      "execution_count": null,
      "metadata": {
        "id": "p1IJbXoqjRqM",
        "outputId": "59406d9b-327f-4479-eb58-73c95d78ff37"
      },
      "outputs": [
        {
          "data": {
            "text/plain": [
              "array([1, 0, 0, 1, 0, 0, 0, 0, 0, 0, 0, 1, 0, 1, 0, 0, 1, 0, 1, 1, 1, 1,\n",
              "       1, 1, 0, 1, 1, 0, 0, 0, 0, 0, 1, 0, 1, 0, 0, 0, 0, 0, 0, 0, 1, 1,\n",
              "       1, 0, 0, 1, 0, 0, 1, 0, 0, 1, 0, 0, 1, 1, 0, 1, 0, 0, 1, 0, 0, 0,\n",
              "       1, 1, 1, 0, 1, 0, 0, 0, 1, 1, 0, 1, 0, 1, 0, 0, 1, 1, 0, 1, 0, 0,\n",
              "       0, 1, 1, 0, 0, 0, 0, 0, 0, 1, 0, 1, 0, 0, 1, 0, 0, 1, 0, 0, 0, 0,\n",
              "       0, 0, 0, 0])"
            ]
          },
          "execution_count": 40,
          "metadata": {},
          "output_type": "execute_result"
        }
      ],
      "source": [
        "y_test.values"
      ]
    },
    {
      "cell_type": "code",
      "execution_count": null,
      "metadata": {
        "id": "82hKXTspjRqN"
      },
      "outputs": [],
      "source": [
        "from sklearn.metrics import accuracy_score,confusion_matrix"
      ]
    },
    {
      "cell_type": "code",
      "execution_count": null,
      "metadata": {
        "id": "58vnisZrjRqN"
      },
      "outputs": [],
      "source": [
        "# Accuracy on training and test set\n",
        "acc_tr = accuracy_score(y_pred = nn_tr_predict[0], y_true = y_train_n[0])\n",
        "acc_ts = accuracy_score(y_pred = nn_ts_predict[0], y_true = y_test_n[0])"
      ]
    },
    {
      "cell_type": "code",
      "execution_count": null,
      "metadata": {
        "id": "Ug2DmvgajRqO",
        "outputId": "5c0524ea-ab7a-462c-ddef-fd51c7cba3ad"
      },
      "outputs": [
        {
          "name": "stdout",
          "output_type": "stream",
          "text": [
            "Train Acc 0.9494505494505494 Test Acc 0.9912280701754386\n"
          ]
        }
      ],
      "source": [
        "print(f\"Train Acc {acc_tr} Test Acc {acc_ts}\")"
      ]
    },
    {
      "cell_type": "code",
      "execution_count": null,
      "metadata": {
        "id": "xy20Vha_jRqO",
        "outputId": "20cf15ae-a322-41ce-da82-52ea4b3c49f5"
      },
      "outputs": [
        {
          "data": {
            "text/plain": [
              "array([[72,  0],\n",
              "       [ 1, 41]])"
            ]
          },
          "execution_count": 44,
          "metadata": {},
          "output_type": "execute_result"
        }
      ],
      "source": [
        "# Test set confusion matrix\n",
        "confusion_matrix(y_pred = nn_ts_predict[0], y_true = y_test_n[0])"
      ]
    },
    {
      "cell_type": "code",
      "execution_count": null,
      "metadata": {
        "id": "cSCp40z_jRqP",
        "outputId": "6d74776c-8506-440a-c887-4a7a9ed2975e"
      },
      "outputs": [
        {
          "data": {
            "text/plain": [
              "array([[272,  13],\n",
              "       [ 10, 160]])"
            ]
          },
          "execution_count": 45,
          "metadata": {},
          "output_type": "execute_result"
        }
      ],
      "source": [
        "# Training set confusion matrix\n",
        "confusion_matrix(y_pred = nn_tr_predict[0], y_true = y_train_n[0])"
      ]
    },
    {
      "cell_type": "code",
      "execution_count": null,
      "metadata": {
        "id": "GKI7YLqNjRqP",
        "outputId": "1c4d39ec-918a-4acb-cecb-20f82283e473"
      },
      "outputs": [
        {
          "data": {
            "image/png": "[encoded data removed]",
            "text/plain": [
              "<Figure size 864x576 with 1 Axes>"
            ]
          },
          "metadata": {
            "needs_background": "light"
          },
          "output_type": "display_data"
        }
      ],
      "source": [
        "# Plot how the cost keeps reducing\n",
        "\n",
        "import matplotlib.pyplot as plt\n",
        "\n",
        "plt.figure(figsize = (12,8))\n",
        "plt.plot(costs)\n",
        "plt.xlabel(\"Number of Iterations\")\n",
        "plt.ylabel(\"Costs\")\n",
        "plt.title(\"Costs vs Iterations\")\n",
        "plt.show()"
      ]
    },
    {
      "cell_type": "markdown",
      "metadata": {
        "id": "jzr3Q8vcjRqQ"
      },
      "source": [
        "## Logistic Regression from Scikit Learn"
      ]
    },
    {
      "cell_type": "code",
      "execution_count": null,
      "metadata": {
        "id": "ZvOpM9uWjRqT"
      },
      "outputs": [],
      "source": [
        "from sklearn.linear_model import LogisticRegression"
      ]
    },
    {
      "cell_type": "code",
      "execution_count": null,
      "metadata": {
        "id": "wY0NBYlAjRqU",
        "outputId": "6cd10bb0-6ca8-4462-8d28-330e3f83f0ce"
      },
      "outputs": [
        {
          "data": {
            "text/plain": [
              "LogisticRegression()"
            ]
          },
          "execution_count": 48,
          "metadata": {},
          "output_type": "execute_result"
        }
      ],
      "source": [
        "lr_model = LogisticRegression()\n",
        "lr_model.fit(X_train_sc, y_train)"
      ]
    },
    {
      "cell_type": "code",
      "execution_count": null,
      "metadata": {
        "id": "ex8jv9j4jRqU"
      },
      "outputs": [],
      "source": [
        "lr_ts_pred = lr_model.predict(X_test_sc)"
      ]
    },
    {
      "cell_type": "code",
      "execution_count": null,
      "metadata": {
        "id": "72QNvrXfjRqV",
        "outputId": "35525048-ce57-4388-fa5c-5ee118ab0ec3"
      },
      "outputs": [
        {
          "data": {
            "text/plain": [
              "0.9736842105263158"
            ]
          },
          "execution_count": 50,
          "metadata": {},
          "output_type": "execute_result"
        }
      ],
      "source": [
        "accuracy_score(y_pred = lr_ts_pred, y_true = y_test)"
      ]
    },
    {
      "cell_type": "markdown",
      "metadata": {
        "id": "R3xXv-O4jRqV"
      },
      "source": [
        "# Build Neural Network using Tensorflow"
      ]
    },
    {
      "cell_type": "code",
      "execution_count": null,
      "metadata": {
        "id": "VIjiHYXejRqV"
      },
      "outputs": [],
      "source": [
        "import tensorflow as tf"
      ]
    },
    {
      "cell_type": "code",
      "execution_count": null,
      "metadata": {
        "id": "4rrBGtRxjRqW",
        "outputId": "61456fda-aee7-4938-f7c9-24bbaa34a310"
      },
      "outputs": [
        {
          "data": {
            "text/plain": [
              "'2.2.0'"
            ]
          },
          "execution_count": 52,
          "metadata": {},
          "output_type": "execute_result"
        }
      ],
      "source": [
        "tf.__version__"
      ]
    },
    {
      "cell_type": "code",
      "execution_count": null,
      "metadata": {
        "id": "V1bi05dCjRqX",
        "outputId": "ebc0bf4d-4344-442d-dce1-d0f1075d78f1"
      },
      "outputs": [
        {
          "data": {
            "text/plain": [
              "'1.18.2'"
            ]
          },
          "execution_count": 53,
          "metadata": {},
          "output_type": "execute_result"
        }
      ],
      "source": [
        "np.__version__"
      ]
    },
    {
      "cell_type": "code",
      "execution_count": null,
      "metadata": {
        "id": "uj-pEwvMjRqY"
      },
      "outputs": [],
      "source": [
        "## Import Model\n",
        "from tensorflow.keras.models import Sequential"
      ]
    },
    {
      "cell_type": "code",
      "execution_count": null,
      "metadata": {
        "id": "gRtcZeULjRqY"
      },
      "outputs": [],
      "source": [
        "# Import layers\n",
        "from tensorflow.keras.layers import Dense"
      ]
    },
    {
      "cell_type": "code",
      "execution_count": null,
      "metadata": {
        "id": "BhtlQq3MjRqZ"
      },
      "outputs": [],
      "source": [
        "# Sequential Neural Network\n",
        "tf_model = Sequential()"
      ]
    },
    {
      "cell_type": "code",
      "execution_count": null,
      "metadata": {
        "id": "Dwkw2qTJjRqZ",
        "outputId": "37095e00-12e1-4752-d67a-3d3f4902a733"
      },
      "outputs": [
        {
          "data": {
            "text/plain": [
              "(455, 30)"
            ]
          },
          "execution_count": 59,
          "metadata": {},
          "output_type": "execute_result"
        }
      ],
      "source": [
        "X_train_sc.shape"
      ]
    },
    {
      "cell_type": "code",
      "execution_count": null,
      "metadata": {
        "id": "VSCWoVpbjRqa"
      },
      "outputs": [],
      "source": [
        "# First Hidden Layer\n",
        "tf_model.add(Dense(64, activation = 'relu', input_shape = (30,)))"
      ]
    },
    {
      "cell_type": "code",
      "execution_count": null,
      "metadata": {
        "id": "o9eRyFFojRqa"
      },
      "outputs": [],
      "source": [
        "# Second Hidden Layer\n",
        "tf_model.add(Dense(32, activation = 'relu'))"
      ]
    },
    {
      "cell_type": "code",
      "execution_count": null,
      "metadata": {
        "id": "yAO3RuTJjRqb"
      },
      "outputs": [],
      "source": [
        "# Third Hidden Layer\n",
        "tf_model.add(Dense(16, activation = 'tanh'))"
      ]
    },
    {
      "cell_type": "code",
      "execution_count": null,
      "metadata": {
        "id": "6ljRb5P7jRqb"
      },
      "outputs": [],
      "source": [
        "# Output Layer\n",
        "tf_model.add(Dense(1, activation = 'sigmoid'))"
      ]
    },
    {
      "cell_type": "code",
      "execution_count": null,
      "metadata": {
        "id": "yMCu2UkMjRqc",
        "outputId": "95f42d98-b4e2-465d-8859-723ff41d1210"
      },
      "outputs": [
        {
          "name": "stdout",
          "output_type": "stream",
          "text": [
            "Model: \"sequential_1\"\n",
            "_________________________________________________________________\n",
            "Layer (type)                 Output Shape              Param #   \n",
            "=================================================================\n",
            "dense_3 (Dense)              (None, 64)                1984      \n",
            "_________________________________________________________________\n",
            "dense_4 (Dense)              (None, 32)                2080      \n",
            "_________________________________________________________________\n",
            "dense_5 (Dense)              (None, 16)                528       \n",
            "_________________________________________________________________\n",
            "dense_6 (Dense)              (None, 1)                 17        \n",
            "=================================================================\n",
            "Total params: 4,609\n",
            "Trainable params: 4,609\n",
            "Non-trainable params: 0\n",
            "_________________________________________________________________\n"
          ]
        }
      ],
      "source": [
        "tf_model.summary()"
      ]
    },
    {
      "cell_type": "code",
      "execution_count": null,
      "metadata": {
        "id": "73joOllqjRqd",
        "outputId": "1610a4b4-b87b-4bf5-8263-e85362871a45"
      },
      "outputs": [
        {
          "data": {
            "text/plain": [
              "2080"
            ]
          },
          "execution_count": 65,
          "metadata": {},
          "output_type": "execute_result"
        }
      ],
      "source": [
        "####\n",
        "# 30 Nodes in Input Layer\n",
        "# 64 Nodes in First Hidden layer\n",
        "# 32 Nodes in Second Hidden Layer\n",
        "# 1 Node in Output Layer"
      ]
    },
    {
      "cell_type": "code",
      "execution_count": null,
      "metadata": {
        "id": "CxTDFtOVjRqe"
      },
      "outputs": [],
      "source": [
        "# Compile the model\n",
        "tf_model.compile(loss='binary_crossentropy',\n",
        "                 optimizer='adam',\n",
        "                 metrics = ['accuracy'])"
      ]
    },
    {
      "cell_type": "code",
      "execution_count": null,
      "metadata": {
        "id": "WE2UyIa7jRqe",
        "outputId": "b86d29aa-4454-45ee-a277-0bb3c4f1ef29"
      },
      "outputs": [
        {
          "name": "stdout",
          "output_type": "stream",
          "text": [
            "Epoch 1/100\n",
            "15/15 [==============================] - 0s 2ms/step - loss: 0.4899 - accuracy: 0.7956\n",
            "Epoch 2/100\n",
            "15/15 [==============================] - 0s 2ms/step - loss: 0.2323 - accuracy: 0.9429\n",
            "Epoch 3/100\n",
            "15/15 [==============================] - 0s 2ms/step - loss: 0.1461 - accuracy: 0.9648\n",
            "Epoch 4/100\n",
            "15/15 [==============================] - 0s 2ms/step - loss: 0.1091 - accuracy: 0.9648\n",
            "Epoch 5/100\n",
            "15/15 [==============================] - 0s 1ms/step - loss: 0.0892 - accuracy: 0.9758\n",
            "Epoch 6/100\n",
            "15/15 [==============================] - 0s 1ms/step - loss: 0.0775 - accuracy: 0.9780\n",
            "Epoch 7/100\n",
            "15/15 [==============================] - 0s 2ms/step - loss: 0.0691 - accuracy: 0.9780\n",
            "Epoch 8/100\n",
            "15/15 [==============================] - 0s 2ms/step - loss: 0.0637 - accuracy: 0.9824\n",
            "Epoch 9/100\n",
            "15/15 [==============================] - 0s 1ms/step - loss: 0.0584 - accuracy: 0.9868\n",
            "Epoch 10/100\n",
            "15/15 [==============================] - 0s 2ms/step - loss: 0.0532 - accuracy: 0.9846\n",
            "Epoch 11/100\n",
            "15/15 [==============================] - 0s 2ms/step - loss: 0.0496 - accuracy: 0.9868\n",
            "Epoch 12/100\n",
            "15/15 [==============================] - 0s 2ms/step - loss: 0.0458 - accuracy: 0.9890\n",
            "Epoch 13/100\n",
            "15/15 [==============================] - 0s 1ms/step - loss: 0.0427 - accuracy: 0.9890\n",
            "Epoch 14/100\n",
            "15/15 [==============================] - 0s 1ms/step - loss: 0.0403 - accuracy: 0.9890\n",
            "Epoch 15/100\n",
            "15/15 [==============================] - 0s 2ms/step - loss: 0.0369 - accuracy: 0.9890\n",
            "Epoch 16/100\n",
            "15/15 [==============================] - 0s 1ms/step - loss: 0.0348 - accuracy: 0.9912\n",
            "Epoch 17/100\n",
            "15/15 [==============================] - 0s 2ms/step - loss: 0.0325 - accuracy: 0.9912\n",
            "Epoch 18/100\n",
            "15/15 [==============================] - 0s 3ms/step - loss: 0.0302 - accuracy: 0.9912\n",
            "Epoch 19/100\n",
            "15/15 [==============================] - 0s 2ms/step - loss: 0.0286 - accuracy: 0.9912\n",
            "Epoch 20/100\n",
            "15/15 [==============================] - 0s 2ms/step - loss: 0.0264 - accuracy: 0.9934\n",
            "Epoch 21/100\n",
            "15/15 [==============================] - 0s 2ms/step - loss: 0.0246 - accuracy: 0.9956\n",
            "Epoch 22/100\n",
            "15/15 [==============================] - 0s 2ms/step - loss: 0.0226 - accuracy: 0.9956\n",
            "Epoch 23/100\n",
            "15/15 [==============================] - 0s 2ms/step - loss: 0.0209 - accuracy: 0.9956\n",
            "Epoch 24/100\n",
            "15/15 [==============================] - 0s 1ms/step - loss: 0.0190 - accuracy: 0.9956\n",
            "Epoch 25/100\n",
            "15/15 [==============================] - 0s 2ms/step - loss: 0.0173 - accuracy: 0.9956\n",
            "Epoch 26/100\n",
            "15/15 [==============================] - 0s 1ms/step - loss: 0.0154 - accuracy: 0.9956\n",
            "Epoch 27/100\n",
            "15/15 [==============================] - 0s 1ms/step - loss: 0.0140 - accuracy: 0.9956\n",
            "Epoch 28/100\n",
            "15/15 [==============================] - 0s 1ms/step - loss: 0.0123 - accuracy: 0.9978\n",
            "Epoch 29/100\n",
            "15/15 [==============================] - 0s 1ms/step - loss: 0.0116 - accuracy: 0.9978\n",
            "Epoch 30/100\n",
            "15/15 [==============================] - 0s 1ms/step - loss: 0.0102 - accuracy: 0.9978\n",
            "Epoch 31/100\n",
            "15/15 [==============================] - 0s 2ms/step - loss: 0.0090 - accuracy: 1.0000\n",
            "Epoch 32/100\n",
            "15/15 [==============================] - 0s 1ms/step - loss: 0.0082 - accuracy: 1.0000\n",
            "Epoch 33/100\n",
            "15/15 [==============================] - 0s 2ms/step - loss: 0.0076 - accuracy: 1.0000\n",
            "Epoch 34/100\n",
            "15/15 [==============================] - 0s 2ms/step - loss: 0.0071 - accuracy: 1.0000\n",
            "Epoch 35/100\n",
            "15/15 [==============================] - 0s 1ms/step - loss: 0.0060 - accuracy: 1.0000\n",
            "Epoch 36/100\n",
            "15/15 [==============================] - 0s 2ms/step - loss: 0.0056 - accuracy: 1.0000\n",
            "Epoch 37/100\n",
            "15/15 [==============================] - 0s 1ms/step - loss: 0.0050 - accuracy: 1.0000\n",
            "Epoch 38/100\n",
            "15/15 [==============================] - 0s 2ms/step - loss: 0.0046 - accuracy: 1.0000\n",
            "Epoch 39/100\n",
            "15/15 [==============================] - 0s 2ms/step - loss: 0.0042 - accuracy: 1.0000\n",
            "Epoch 40/100\n",
            "15/15 [==============================] - 0s 2ms/step - loss: 0.0039 - accuracy: 1.0000\n",
            "Epoch 41/100\n",
            "15/15 [==============================] - 0s 1ms/step - loss: 0.0036 - accuracy: 1.0000\n",
            "Epoch 42/100\n",
            "15/15 [==============================] - 0s 2ms/step - loss: 0.0035 - accuracy: 1.0000\n",
            "Epoch 43/100\n",
            "15/15 [==============================] - 0s 2ms/step - loss: 0.0031 - accuracy: 1.0000\n",
            "Epoch 44/100\n",
            "15/15 [==============================] - 0s 2ms/step - loss: 0.0030 - accuracy: 1.0000\n",
            "Epoch 45/100\n",
            "15/15 [==============================] - 0s 2ms/step - loss: 0.0028 - accuracy: 1.0000\n",
            "Epoch 46/100\n",
            "15/15 [==============================] - 0s 2ms/step - loss: 0.0025 - accuracy: 1.0000\n",
            "Epoch 47/100\n",
            "15/15 [==============================] - 0s 2ms/step - loss: 0.0025 - accuracy: 1.0000\n",
            "Epoch 48/100\n",
            "15/15 [==============================] - 0s 1ms/step - loss: 0.0023 - accuracy: 1.0000\n",
            "Epoch 49/100\n",
            "15/15 [==============================] - 0s 1ms/step - loss: 0.0023 - accuracy: 1.0000\n",
            "Epoch 50/100\n",
            "15/15 [==============================] - 0s 2ms/step - loss: 0.0021 - accuracy: 1.0000\n",
            "Epoch 51/100\n",
            "15/15 [==============================] - 0s 1ms/step - loss: 0.0019 - accuracy: 1.0000\n",
            "Epoch 52/100\n",
            "15/15 [==============================] - 0s 2ms/step - loss: 0.0018 - accuracy: 1.0000\n",
            "Epoch 53/100\n",
            "15/15 [==============================] - 0s 2ms/step - loss: 0.0017 - accuracy: 1.0000\n",
            "Epoch 54/100\n",
            "15/15 [==============================] - 0s 2ms/step - loss: 0.0016 - accuracy: 1.0000\n",
            "Epoch 55/100\n",
            "15/15 [==============================] - 0s 2ms/step - loss: 0.0015 - accuracy: 1.0000\n",
            "Epoch 56/100\n",
            "15/15 [==============================] - 0s 2ms/step - loss: 0.0014 - accuracy: 1.0000\n",
            "Epoch 57/100\n",
            "15/15 [==============================] - 0s 1ms/step - loss: 0.0014 - accuracy: 1.0000\n",
            "Epoch 58/100\n",
            "15/15 [==============================] - 0s 1ms/step - loss: 0.0013 - accuracy: 1.0000\n",
            "Epoch 59/100\n",
            "15/15 [==============================] - 0s 2ms/step - loss: 0.0012 - accuracy: 1.0000\n",
            "Epoch 60/100\n",
            "15/15 [==============================] - 0s 1ms/step - loss: 0.0012 - accuracy: 1.0000\n",
            "Epoch 61/100\n",
            "15/15 [==============================] - 0s 2ms/step - loss: 0.0012 - accuracy: 1.0000\n",
            "Epoch 62/100\n",
            "15/15 [==============================] - 0s 1ms/step - loss: 0.0011 - accuracy: 1.0000\n",
            "Epoch 63/100\n",
            "15/15 [==============================] - 0s 2ms/step - loss: 0.0011 - accuracy: 1.0000\n",
            "Epoch 64/100\n",
            "15/15 [==============================] - 0s 2ms/step - loss: 0.0010 - accuracy: 1.0000\n",
            "Epoch 65/100\n",
            "15/15 [==============================] - 0s 1ms/step - loss: 9.8916e-04 - accuracy: 1.0000\n",
            "Epoch 66/100\n",
            "15/15 [==============================] - 0s 2ms/step - loss: 9.5820e-04 - accuracy: 1.0000\n",
            "Epoch 67/100\n",
            "15/15 [==============================] - 0s 1ms/step - loss: 9.1861e-04 - accuracy: 1.0000\n",
            "Epoch 68/100\n",
            "15/15 [==============================] - 0s 1ms/step - loss: 8.7785e-04 - accuracy: 1.0000\n",
            "Epoch 69/100\n",
            "15/15 [==============================] - 0s 1ms/step - loss: 8.5072e-04 - accuracy: 1.0000\n",
            "Epoch 70/100\n",
            "15/15 [==============================] - 0s 1ms/step - loss: 8.4210e-04 - accuracy: 1.0000\n",
            "Epoch 71/100\n",
            "15/15 [==============================] - 0s 2ms/step - loss: 8.0075e-04 - accuracy: 1.0000\n",
            "Epoch 72/100\n",
            "15/15 [==============================] - 0s 1ms/step - loss: 7.7160e-04 - accuracy: 1.0000\n",
            "Epoch 73/100\n",
            "15/15 [==============================] - 0s 1ms/step - loss: 7.4321e-04 - accuracy: 1.0000\n",
            "Epoch 74/100\n",
            "15/15 [==============================] - 0s 1ms/step - loss: 7.1683e-04 - accuracy: 1.0000\n",
            "Epoch 75/100\n",
            "15/15 [==============================] - 0s 1ms/step - loss: 7.0186e-04 - accuracy: 1.0000\n",
            "Epoch 76/100\n",
            "15/15 [==============================] - 0s 1ms/step - loss: 6.8426e-04 - accuracy: 1.0000\n",
            "Epoch 77/100\n",
            "15/15 [==============================] - 0s 2ms/step - loss: 6.6784e-04 - accuracy: 1.0000\n",
            "Epoch 78/100\n",
            "15/15 [==============================] - 0s 1ms/step - loss: 6.6033e-04 - accuracy: 1.0000\n",
            "Epoch 79/100\n",
            "15/15 [==============================] - 0s 1ms/step - loss: 6.2590e-04 - accuracy: 1.0000\n",
            "Epoch 80/100\n",
            "15/15 [==============================] - 0s 1ms/step - loss: 6.1634e-04 - accuracy: 1.0000\n",
            "Epoch 81/100\n",
            "15/15 [==============================] - 0s 2ms/step - loss: 5.9193e-04 - accuracy: 1.0000\n",
            "Epoch 82/100\n",
            "15/15 [==============================] - 0s 2ms/step - loss: 5.8014e-04 - accuracy: 1.0000\n",
            "Epoch 83/100\n",
            "15/15 [==============================] - 0s 2ms/step - loss: 5.6320e-04 - accuracy: 1.0000\n",
            "Epoch 84/100\n",
            "15/15 [==============================] - 0s 2ms/step - loss: 5.3717e-04 - accuracy: 1.0000\n",
            "Epoch 85/100\n",
            "15/15 [==============================] - 0s 2ms/step - loss: 5.2501e-04 - accuracy: 1.0000\n",
            "Epoch 86/100\n",
            "15/15 [==============================] - 0s 2ms/step - loss: 5.1028e-04 - accuracy: 1.0000\n",
            "Epoch 87/100\n",
            "15/15 [==============================] - 0s 2ms/step - loss: 4.9772e-04 - accuracy: 1.0000\n",
            "Epoch 88/100\n",
            "15/15 [==============================] - 0s 2ms/step - loss: 4.8580e-04 - accuracy: 1.0000\n",
            "Epoch 89/100\n",
            "15/15 [==============================] - 0s 1ms/step - loss: 4.7706e-04 - accuracy: 1.0000\n",
            "Epoch 90/100\n",
            "15/15 [==============================] - 0s 2ms/step - loss: 4.6584e-04 - accuracy: 1.0000\n",
            "Epoch 91/100\n",
            "15/15 [==============================] - 0s 2ms/step - loss: 4.5115e-04 - accuracy: 1.0000\n",
            "Epoch 92/100\n",
            "15/15 [==============================] - 0s 2ms/step - loss: 4.4400e-04 - accuracy: 1.0000\n",
            "Epoch 93/100\n",
            "15/15 [==============================] - 0s 2ms/step - loss: 4.3632e-04 - accuracy: 1.0000\n",
            "Epoch 94/100\n",
            "15/15 [==============================] - 0s 2ms/step - loss: 4.2759e-04 - accuracy: 1.0000\n",
            "Epoch 95/100\n",
            "15/15 [==============================] - 0s 1ms/step - loss: 4.1655e-04 - accuracy: 1.0000\n",
            "Epoch 96/100\n",
            "15/15 [==============================] - 0s 1ms/step - loss: 4.0653e-04 - accuracy: 1.0000\n",
            "Epoch 97/100\n",
            "15/15 [==============================] - 0s 2ms/step - loss: 3.9916e-04 - accuracy: 1.0000\n",
            "Epoch 98/100\n",
            "15/15 [==============================] - 0s 2ms/step - loss: 4.0235e-04 - accuracy: 1.0000\n",
            "Epoch 99/100\n",
            "15/15 [==============================] - 0s 2ms/step - loss: 3.8223e-04 - accuracy: 1.0000\n",
            "Epoch 100/100\n",
            "15/15 [==============================] - 0s 1ms/step - loss: 3.7405e-04 - accuracy: 1.0000\n"
          ]
        }
      ],
      "source": [
        "# Train the model on the data\n",
        "results = tf_model.fit(X_train_sc, y_train, epochs = 100)"
      ]
    },
    {
      "cell_type": "code",
      "execution_count": null,
      "metadata": {
        "id": "rGI9zacJjRqf"
      },
      "outputs": [],
      "source": [
        "# Predict the model on the test set\n",
        "y_pred_ts = tf_model.predict(X_test_sc)"
      ]
    },
    {
      "cell_type": "code",
      "execution_count": null,
      "metadata": {
        "id": "NI9vrhSYjRqf",
        "outputId": "3213317c-e0f4-418a-d73e-87008dab0788"
      },
      "outputs": [
        {
          "data": {
            "text/plain": [
              "array([[9.9975836e-01],\n",
              "       [1.2969971e-04],\n",
              "       [3.4251809e-04],\n",
              "       [9.9988967e-01],\n",
              "       [1.1278934e-04]], dtype=float32)"
            ]
          },
          "execution_count": 103,
          "metadata": {},
          "output_type": "execute_result"
        }
      ],
      "source": [
        "y_pred_ts[0:5]"
      ]
    },
    {
      "cell_type": "code",
      "execution_count": null,
      "metadata": {
        "id": "DM4pBjpFjRqg",
        "outputId": "6d97210b-7970-4bbf-9dab-9c500a033c4e"
      },
      "outputs": [
        {
          "data": {
            "text/plain": [
              "array([[ True],\n",
              "       [False],\n",
              "       [False],\n",
              "       [ True],\n",
              "       [False]])"
            ]
          },
          "execution_count": 104,
          "metadata": {},
          "output_type": "execute_result"
        }
      ],
      "source": [
        "y_pred_ts[0:5] > 0.5"
      ]
    },
    {
      "cell_type": "code",
      "execution_count": null,
      "metadata": {
        "id": "jDGGQ4lvjRqg"
      },
      "outputs": [],
      "source": [
        "from sklearn.metrics import accuracy_score, confusion_matrix"
      ]
    },
    {
      "cell_type": "code",
      "execution_count": null,
      "metadata": {
        "id": "TCSFiNzdjRqg"
      },
      "outputs": [],
      "source": [
        "y_pred_ts = (y_pred_ts > 0.5)*1.0"
      ]
    },
    {
      "cell_type": "code",
      "execution_count": null,
      "metadata": {
        "id": "qe5GvdxTjRqh",
        "outputId": "b8af639b-54d7-435d-a9ae-42a2f012e3ae"
      },
      "outputs": [
        {
          "data": {
            "text/plain": [
              "array([[1.],\n",
              "       [0.],\n",
              "       [0.],\n",
              "       [1.],\n",
              "       [0.]])"
            ]
          },
          "execution_count": 107,
          "metadata": {},
          "output_type": "execute_result"
        }
      ],
      "source": [
        "y_pred_ts[0:5]"
      ]
    },
    {
      "cell_type": "code",
      "execution_count": null,
      "metadata": {
        "id": "QWQz783QjRqj"
      },
      "outputs": [],
      "source": [
        "#y_pred_ts"
      ]
    },
    {
      "cell_type": "code",
      "execution_count": null,
      "metadata": {
        "id": "r_NwKDkRjRqk",
        "outputId": "c024f666-f0c7-4f95-a6bd-5c18c55a5d2d"
      },
      "outputs": [
        {
          "data": {
            "text/plain": [
              "0.9736842105263158"
            ]
          },
          "execution_count": 109,
          "metadata": {},
          "output_type": "execute_result"
        }
      ],
      "source": [
        "accuracy_score(y_pred = y_pred_ts, y_true = y_test)"
      ]
    },
    {
      "cell_type": "code",
      "execution_count": null,
      "metadata": {
        "id": "LD4zYmnJjRqk",
        "outputId": "4eb88052-54b7-4f3e-c95b-420565421f07"
      },
      "outputs": [
        {
          "data": {
            "text/plain": [
              "array([[72,  0],\n",
              "       [ 3, 39]])"
            ]
          },
          "execution_count": 110,
          "metadata": {},
          "output_type": "execute_result"
        }
      ],
      "source": [
        "confusion_matrix(y_pred = y_pred_ts, y_true = y_test)"
      ]
    },
    {
      "cell_type": "code",
      "execution_count": null,
      "metadata": {
        "id": "XmGECSTIjRql"
      },
      "outputs": [],
      "source": [
        "df_output = pd.DataFrame(results.history)"
      ]
    },
    {
      "cell_type": "code",
      "execution_count": null,
      "metadata": {
        "id": "M8wch3fajRql",
        "outputId": "007f88d3-8e34-46ea-cfe0-548145042274"
      },
      "outputs": [
        {
          "data": {
            "text/html": [
              "<div>\n",
              "<style scoped>\n",
              "    .dataframe tbody tr th:only-of-type {\n",
              "        vertical-align: middle;\n",
              "    }\n",
              "\n",
              "    .dataframe tbody tr th {\n",
              "        vertical-align: top;\n",
              "    }\n",
              "\n",
              "    .dataframe thead th {\n",
              "        text-align: right;\n",
              "    }\n",
              "</style>\n",
              "<table border=\"1\" class=\"dataframe\">\n",
              "  <thead>\n",
              "    <tr style=\"text-align: right;\">\n",
              "      <th></th>\n",
              "      <th>loss</th>\n",
              "      <th>accuracy</th>\n",
              "    </tr>\n",
              "  </thead>\n",
              "  <tbody>\n",
              "    <tr>\n",
              "      <th>0</th>\n",
              "      <td>0.489855</td>\n",
              "      <td>0.795604</td>\n",
              "    </tr>\n",
              "    <tr>\n",
              "      <th>1</th>\n",
              "      <td>0.232339</td>\n",
              "      <td>0.942857</td>\n",
              "    </tr>\n",
              "    <tr>\n",
              "      <th>2</th>\n",
              "      <td>0.146124</td>\n",
              "      <td>0.964835</td>\n",
              "    </tr>\n",
              "    <tr>\n",
              "      <th>3</th>\n",
              "      <td>0.109073</td>\n",
              "      <td>0.964835</td>\n",
              "    </tr>\n",
              "    <tr>\n",
              "      <th>4</th>\n",
              "      <td>0.089210</td>\n",
              "      <td>0.975824</td>\n",
              "    </tr>\n",
              "  </tbody>\n",
              "</table>\n",
              "</div>"
            ],
            "text/plain": [
              "       loss  accuracy\n",
              "0  0.489855  0.795604\n",
              "1  0.232339  0.942857\n",
              "2  0.146124  0.964835\n",
              "3  0.109073  0.964835\n",
              "4  0.089210  0.975824"
            ]
          },
          "execution_count": 112,
          "metadata": {},
          "output_type": "execute_result"
        }
      ],
      "source": [
        "df_output.head()"
      ]
    },
    {
      "cell_type": "code",
      "execution_count": null,
      "metadata": {
        "id": "dGERiTFbjRql"
      },
      "outputs": [],
      "source": [
        "import matplotlib.pyplot as plt"
      ]
    },
    {
      "cell_type": "code",
      "execution_count": null,
      "metadata": {
        "id": "AsU8tsrFjRqm",
        "outputId": "eb7a24c8-118d-4582-bb0f-fe87c62f9b4e"
      },
      "outputs": [
        {
          "data": {
            "image/png": "[encoded data removed]",
            "text/plain": [
              "<Figure size 1080x576 with 1 Axes>"
            ]
          },
          "metadata": {
            "needs_background": "light"
          },
          "output_type": "display_data"
        }
      ],
      "source": [
        "plt.figure(figsize = (15,8))\n",
        "plt.plot(df_output['loss'])\n",
        "plt.plot(df_output['accuracy'])\n",
        "plt.show()"
      ]
    },
    {
      "cell_type": "code",
      "execution_count": null,
      "metadata": {
        "id": "Hwre26XSjRqm"
      },
      "outputs": [],
      "source": [
        ""
      ]
    }
  ],
  "metadata": {
    "kernelspec": {
      "display_name": "Python 3",
      "language": "python",
      "name": "python3"
    },
    "language_info": {
      "codemirror_mode": {
        "name": "ipython",
        "version": 3
      },
      "file_extension": ".py",
      "mimetype": "text/x-python",
      "name": "python",
      "nbconvert_exporter": "python",
      "pygments_lexer": "ipython3",
      "version": "3.7.6"
    },
    "colab": {
      "name": "Logistic Regression as a Neural Network.ipynb",
      "provenance": [],
      "collapsed_sections": [
        "jzr3Q8vcjRqQ",
        "R3xXv-O4jRqV"
      ],
      "include_colab_link": true
    }
  },
  "nbformat": 4,
  "nbformat_minor": 0
}